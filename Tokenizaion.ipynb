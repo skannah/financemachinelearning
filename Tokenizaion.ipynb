{
 "cells": [
  {
   "cell_type": "code",
   "execution_count": 1,
   "id": "336253bf",
   "metadata": {},
   "outputs": [
    {
     "data": {
      "text/plain": [
       "'你好👾 (hello in Mandarin!)'"
      ]
     },
     "execution_count": 1,
     "metadata": {},
     "output_type": "execute_result"
    }
   ],
   "source": [
    "\"你好👾 (hello in Mandarin!)\""
   ]
  },
  {
   "cell_type": "code",
   "execution_count": 7,
   "id": "3e9c86fa",
   "metadata": {},
   "outputs": [
    {
     "data": {
      "text/plain": [
       "[20320,\n",
       " 22909,\n",
       " 128126,\n",
       " 32,\n",
       " 40,\n",
       " 104,\n",
       " 101,\n",
       " 108,\n",
       " 108,\n",
       " 111,\n",
       " 32,\n",
       " 105,\n",
       " 110,\n",
       " 32,\n",
       " 77,\n",
       " 97,\n",
       " 110,\n",
       " 100,\n",
       " 97,\n",
       " 114,\n",
       " 105,\n",
       " 110,\n",
       " 33,\n",
       " 41]"
      ]
     },
     "execution_count": 7,
     "metadata": {},
     "output_type": "execute_result"
    }
   ],
   "source": [
    "[ord(x) for x in \"你好👾 (hello in Mandarin!)\"]"
   ]
  },
  {
   "cell_type": "code",
   "execution_count": null,
   "id": "1678c562",
   "metadata": {},
   "outputs": [],
   "source": []
  }
 ],
 "metadata": {
  "kernelspec": {
   "display_name": "Python 3 (ipykernel)",
   "language": "python",
   "name": "python3"
  },
  "language_info": {
   "codemirror_mode": {
    "name": "ipython",
    "version": 3
   },
   "file_extension": ".py",
   "mimetype": "text/x-python",
   "name": "python",
   "nbconvert_exporter": "python",
   "pygments_lexer": "ipython3",
   "version": "3.11.4"
  }
 },
 "nbformat": 4,
 "nbformat_minor": 5
}
